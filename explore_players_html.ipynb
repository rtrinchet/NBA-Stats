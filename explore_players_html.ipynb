{
 "cells": [
  {
   "cell_type": "code",
   "execution_count": 84,
   "metadata": {},
   "outputs": [],
   "source": [
    "from get_data import request_page\n",
    "import string\n",
    "import pandas as pd\n",
    "b_url = 'https://www.basketball-reference.com'\n",
    "players_url = 'https://www.basketball-reference.com/players/'"
   ]
  },
  {
   "cell_type": "markdown",
   "metadata": {},
   "source": [
    "## Get data and url for all players"
   ]
  },
  {
   "cell_type": "code",
   "execution_count": 22,
   "metadata": {
    "scrolled": true
   },
   "outputs": [
    {
     "data": {
      "text/plain": [
       "['https://www.basketball-reference.com/players/a/',\n",
       " 'https://www.basketball-reference.com/players/b/']"
      ]
     },
     "execution_count": 22,
     "metadata": {},
     "output_type": "execute_result"
    }
   ],
   "source": [
    "alphabet = list(string.ascii_lowercase)\n",
    "list_urls = [players_url + letter + '/' for letter in alphabet] \n",
    "list_urls[:2]"
   ]
  },
  {
   "cell_type": "markdown",
   "metadata": {},
   "source": [
    "### Try with players starting with a"
   ]
  },
  {
   "cell_type": "code",
   "execution_count": 23,
   "metadata": {},
   "outputs": [
    {
     "data": {
      "text/plain": [
       "'https://www.basketball-reference.com/players/a/'"
      ]
     },
     "execution_count": 23,
     "metadata": {},
     "output_type": "execute_result"
    }
   ],
   "source": [
    "test = list_urls[0]\n",
    "test"
   ]
  },
  {
   "cell_type": "code",
   "execution_count": 24,
   "metadata": {},
   "outputs": [],
   "source": [
    "players_soup = request_page(test)"
   ]
  },
  {
   "cell_type": "code",
   "execution_count": 69,
   "metadata": {},
   "outputs": [
    {
     "data": {
      "text/plain": [
       "['url', 'player', 'from', 'to', 'pos', 'ht', 'wt', 'birth date', 'colleges']"
      ]
     },
     "execution_count": 69,
     "metadata": {},
     "output_type": "execute_result"
    }
   ],
   "source": [
    "cols = [elem.text.lower() for elem in players_soup.find('thead').find_all('th')]\n",
    "cols.insert(0, \"url\")\n",
    "cols"
   ]
  },
  {
   "cell_type": "code",
   "execution_count": 75,
   "metadata": {},
   "outputs": [
    {
     "data": {
      "text/plain": [
       "<tr><th class=\"left\" data-append-csv=\"abdelal01\" data-stat=\"player\" scope=\"row\"><a href=\"/players/a/abdelal01.html\">Alaa Abdelnaby</a></th><td class=\"right\" data-stat=\"year_min\">1991</td><td class=\"right\" data-stat=\"year_max\">1995</td><td class=\"center\" data-stat=\"pos\">F-C</td><td class=\"right\" csk=\"82.0\" data-stat=\"height\">6-10</td><td class=\"right\" data-stat=\"weight\">240</td><td class=\"left\" csk=\"19680624\" data-stat=\"birth_date\"><a href=\"/friv/birthdays.cgi?month=6&amp;day=24\">June 24, 1968</a></td><td class=\"left\" data-stat=\"colleges\"><a href=\"/friv/colleges.fcgi?college=duke\">Duke</a></td></tr>"
      ]
     },
     "execution_count": 75,
     "metadata": {},
     "output_type": "execute_result"
    }
   ],
   "source": [
    "player1 = players_soup.find('tbody').find_all('tr')[0]\n",
    "player1"
   ]
  },
  {
   "cell_type": "code",
   "execution_count": 71,
   "metadata": {},
   "outputs": [
    {
     "data": {
      "text/plain": [
       "'https://www.basketball-reference.com/players/a/abdelal01.html'"
      ]
     },
     "execution_count": 71,
     "metadata": {},
     "output_type": "execute_result"
    }
   ],
   "source": [
    "# URL\n",
    "b_url + player1.a['href']"
   ]
  },
  {
   "cell_type": "code",
   "execution_count": 59,
   "metadata": {},
   "outputs": [
    {
     "data": {
      "text/plain": [
       "'Alaa Abdelnaby'"
      ]
     },
     "execution_count": 59,
     "metadata": {},
     "output_type": "execute_result"
    }
   ],
   "source": [
    "# name\n",
    "player1.a.text"
   ]
  },
  {
   "cell_type": "code",
   "execution_count": 66,
   "metadata": {},
   "outputs": [
    {
     "data": {
      "text/plain": [
       "['1991', '1995', 'F-C', '6-10', '240', 'June 24, 1968', 'Duke']"
      ]
     },
     "execution_count": 66,
     "metadata": {},
     "output_type": "execute_result"
    }
   ],
   "source": [
    "# rest of columns\n",
    "[elem.text for elem in player1.find_all('td')]"
   ]
  },
  {
   "cell_type": "code",
   "execution_count": 87,
   "metadata": {},
   "outputs": [],
   "source": [
    "def extract_player_info(player_text, b_url = b_url):\n",
    "    url = b_url + player_text.a['href']\n",
    "    name = player_text.a.text\n",
    "    info = [name, url]\n",
    "    info.extend([elem.text for elem in player_text.find_all('td')])\n",
    "    return info"
   ]
  },
  {
   "cell_type": "code",
   "execution_count": 88,
   "metadata": {},
   "outputs": [],
   "source": [
    "a_players = players_soup.find('tbody').find_all('tr')\n",
    "result = [extract_player_info(player_text) for player_text in a_players]\n",
    "pd.DataFrame(result, columns = cols)"
   ]
  },
  {
   "cell_type": "markdown",
   "metadata": {},
   "source": [
    "### Creating a function\n",
    "\n",
    "----\n",
    "\n",
    "That creates a dataframe from a url"
   ]
  },
  {
   "cell_type": "code",
   "execution_count": 92,
   "metadata": {},
   "outputs": [],
   "source": [
    "def df_from_url(url):\n",
    "    players_soup = request_page(url)\n",
    "    \n",
    "    cols = [elem.text.lower() for elem in players_soup.find('thead').find_all('th')]\n",
    "    cols.insert(0, \"url\")\n",
    "    \n",
    "    \n",
    "    a_players = players_soup.find('tbody').find_all('tr')\n",
    "    result = [extract_player_info(player_text) for player_text in a_players]\n",
    "    df = pd.DataFrame(result, columns = cols)\n",
    "    \n",
    "#     print(f'Created dataframe with information of {df.shape[0]} players.')\n",
    "    return df\n"
   ]
  },
  {
   "cell_type": "code",
   "execution_count": 96,
   "metadata": {},
   "outputs": [
    {
     "data": {
      "text/plain": [
       "(625, 9)"
      ]
     },
     "execution_count": 96,
     "metadata": {},
     "output_type": "execute_result"
    }
   ],
   "source": [
    "df0 = df_from_url(list_urls[0])\n",
    "df1 = df_from_url(list_urls[1])\n",
    "\n",
    "df = pd.concat([df0,df1], axis = 0)\n",
    "df.shape"
   ]
  },
  {
   "cell_type": "markdown",
   "metadata": {},
   "source": [
    "### Create a function that performs this steps and returns a complete dataframe for all players"
   ]
  },
  {
   "cell_type": "code",
   "execution_count": 110,
   "metadata": {},
   "outputs": [],
   "source": [
    "def get_players_data(players_url='https://www.basketball-reference.com/players/'):\n",
    "    \n",
    "    alphabet = list(string.ascii_lowercase)\n",
    "    list_urls = [players_url + letter + '/' for letter in alphabet]\n",
    "    df0 = df_from_url(list_urls[0])\n",
    "    \n",
    "    df_list = [df_from_url(url) for url in list_urls]\n",
    "    df = pd.concat(df_list, axis = 0)\n",
    "    print(df.shape)\n",
    "    return df\n",
    "        "
   ]
  },
  {
   "cell_type": "code",
   "execution_count": 111,
   "metadata": {},
   "outputs": [
    {
     "name": "stdout",
     "output_type": "stream",
     "text": [
      "(4800, 9)\n"
     ]
    }
   ],
   "source": [
    "dff = get_players_data()"
   ]
  },
  {
   "cell_type": "code",
   "execution_count": 112,
   "metadata": {},
   "outputs": [
    {
     "data": {
      "text/html": [
       "<div>\n",
       "<style scoped>\n",
       "    .dataframe tbody tr th:only-of-type {\n",
       "        vertical-align: middle;\n",
       "    }\n",
       "\n",
       "    .dataframe tbody tr th {\n",
       "        vertical-align: top;\n",
       "    }\n",
       "\n",
       "    .dataframe thead th {\n",
       "        text-align: right;\n",
       "    }\n",
       "</style>\n",
       "<table border=\"1\" class=\"dataframe\">\n",
       "  <thead>\n",
       "    <tr style=\"text-align: right;\">\n",
       "      <th></th>\n",
       "      <th>url</th>\n",
       "      <th>player</th>\n",
       "      <th>from</th>\n",
       "      <th>to</th>\n",
       "      <th>pos</th>\n",
       "      <th>ht</th>\n",
       "      <th>wt</th>\n",
       "      <th>birth date</th>\n",
       "      <th>colleges</th>\n",
       "    </tr>\n",
       "  </thead>\n",
       "  <tbody>\n",
       "    <tr>\n",
       "      <th>0</th>\n",
       "      <td>Alaa Abdelnaby</td>\n",
       "      <td>https://www.basketball-reference.com/players/a...</td>\n",
       "      <td>1991</td>\n",
       "      <td>1995</td>\n",
       "      <td>F-C</td>\n",
       "      <td>6-10</td>\n",
       "      <td>240</td>\n",
       "      <td>June 24, 1968</td>\n",
       "      <td>Duke</td>\n",
       "    </tr>\n",
       "    <tr>\n",
       "      <th>1</th>\n",
       "      <td>Zaid Abdul-Aziz</td>\n",
       "      <td>https://www.basketball-reference.com/players/a...</td>\n",
       "      <td>1969</td>\n",
       "      <td>1978</td>\n",
       "      <td>C-F</td>\n",
       "      <td>6-9</td>\n",
       "      <td>235</td>\n",
       "      <td>April 7, 1946</td>\n",
       "      <td>Iowa State</td>\n",
       "    </tr>\n",
       "    <tr>\n",
       "      <th>2</th>\n",
       "      <td>Kareem Abdul-Jabbar</td>\n",
       "      <td>https://www.basketball-reference.com/players/a...</td>\n",
       "      <td>1970</td>\n",
       "      <td>1989</td>\n",
       "      <td>C</td>\n",
       "      <td>7-2</td>\n",
       "      <td>225</td>\n",
       "      <td>April 16, 1947</td>\n",
       "      <td>UCLA</td>\n",
       "    </tr>\n",
       "    <tr>\n",
       "      <th>3</th>\n",
       "      <td>Mahmoud Abdul-Rauf</td>\n",
       "      <td>https://www.basketball-reference.com/players/a...</td>\n",
       "      <td>1991</td>\n",
       "      <td>2001</td>\n",
       "      <td>G</td>\n",
       "      <td>6-1</td>\n",
       "      <td>162</td>\n",
       "      <td>March 9, 1969</td>\n",
       "      <td>LSU</td>\n",
       "    </tr>\n",
       "    <tr>\n",
       "      <th>4</th>\n",
       "      <td>Tariq Abdul-Wahad</td>\n",
       "      <td>https://www.basketball-reference.com/players/a...</td>\n",
       "      <td>1998</td>\n",
       "      <td>2003</td>\n",
       "      <td>F</td>\n",
       "      <td>6-6</td>\n",
       "      <td>223</td>\n",
       "      <td>November 3, 1974</td>\n",
       "      <td>Michigan, San Jose State</td>\n",
       "    </tr>\n",
       "    <tr>\n",
       "      <th>...</th>\n",
       "      <td>...</td>\n",
       "      <td>...</td>\n",
       "      <td>...</td>\n",
       "      <td>...</td>\n",
       "      <td>...</td>\n",
       "      <td>...</td>\n",
       "      <td>...</td>\n",
       "      <td>...</td>\n",
       "      <td>...</td>\n",
       "    </tr>\n",
       "    <tr>\n",
       "      <th>15</th>\n",
       "      <td>Ante Žižić</td>\n",
       "      <td>https://www.basketball-reference.com/players/z...</td>\n",
       "      <td>2018</td>\n",
       "      <td>2020</td>\n",
       "      <td>F-C</td>\n",
       "      <td>6-10</td>\n",
       "      <td>254</td>\n",
       "      <td>January 4, 1997</td>\n",
       "      <td></td>\n",
       "    </tr>\n",
       "    <tr>\n",
       "      <th>16</th>\n",
       "      <td>Jim Zoet</td>\n",
       "      <td>https://www.basketball-reference.com/players/z...</td>\n",
       "      <td>1983</td>\n",
       "      <td>1983</td>\n",
       "      <td>C</td>\n",
       "      <td>7-1</td>\n",
       "      <td>240</td>\n",
       "      <td>December 20, 1953</td>\n",
       "      <td>Kent State University</td>\n",
       "    </tr>\n",
       "    <tr>\n",
       "      <th>17</th>\n",
       "      <td>Bill Zopf</td>\n",
       "      <td>https://www.basketball-reference.com/players/z...</td>\n",
       "      <td>1971</td>\n",
       "      <td>1971</td>\n",
       "      <td>G</td>\n",
       "      <td>6-1</td>\n",
       "      <td>170</td>\n",
       "      <td>June 7, 1948</td>\n",
       "      <td>Duquesne</td>\n",
       "    </tr>\n",
       "    <tr>\n",
       "      <th>18</th>\n",
       "      <td>Ivica Zubac</td>\n",
       "      <td>https://www.basketball-reference.com/players/z...</td>\n",
       "      <td>2017</td>\n",
       "      <td>2020</td>\n",
       "      <td>C</td>\n",
       "      <td>7-0</td>\n",
       "      <td>240</td>\n",
       "      <td>March 18, 1997</td>\n",
       "      <td></td>\n",
       "    </tr>\n",
       "    <tr>\n",
       "      <th>19</th>\n",
       "      <td>Matt Zunic</td>\n",
       "      <td>https://www.basketball-reference.com/players/z...</td>\n",
       "      <td>1949</td>\n",
       "      <td>1949</td>\n",
       "      <td>G-F</td>\n",
       "      <td>6-3</td>\n",
       "      <td>195</td>\n",
       "      <td>December 19, 1919</td>\n",
       "      <td>George Washington</td>\n",
       "    </tr>\n",
       "  </tbody>\n",
       "</table>\n",
       "<p>4800 rows × 9 columns</p>\n",
       "</div>"
      ],
      "text/plain": [
       "                    url                                             player  \\\n",
       "0        Alaa Abdelnaby  https://www.basketball-reference.com/players/a...   \n",
       "1       Zaid Abdul-Aziz  https://www.basketball-reference.com/players/a...   \n",
       "2   Kareem Abdul-Jabbar  https://www.basketball-reference.com/players/a...   \n",
       "3    Mahmoud Abdul-Rauf  https://www.basketball-reference.com/players/a...   \n",
       "4     Tariq Abdul-Wahad  https://www.basketball-reference.com/players/a...   \n",
       "..                  ...                                                ...   \n",
       "15           Ante Žižić  https://www.basketball-reference.com/players/z...   \n",
       "16             Jim Zoet  https://www.basketball-reference.com/players/z...   \n",
       "17            Bill Zopf  https://www.basketball-reference.com/players/z...   \n",
       "18          Ivica Zubac  https://www.basketball-reference.com/players/z...   \n",
       "19           Matt Zunic  https://www.basketball-reference.com/players/z...   \n",
       "\n",
       "    from    to  pos    ht   wt         birth date                  colleges  \n",
       "0   1991  1995  F-C  6-10  240      June 24, 1968                      Duke  \n",
       "1   1969  1978  C-F   6-9  235      April 7, 1946                Iowa State  \n",
       "2   1970  1989    C   7-2  225     April 16, 1947                      UCLA  \n",
       "3   1991  2001    G   6-1  162      March 9, 1969                       LSU  \n",
       "4   1998  2003    F   6-6  223   November 3, 1974  Michigan, San Jose State  \n",
       "..   ...   ...  ...   ...  ...                ...                       ...  \n",
       "15  2018  2020  F-C  6-10  254    January 4, 1997                            \n",
       "16  1983  1983    C   7-1  240  December 20, 1953     Kent State University  \n",
       "17  1971  1971    G   6-1  170       June 7, 1948                  Duquesne  \n",
       "18  2017  2020    C   7-0  240     March 18, 1997                            \n",
       "19  1949  1949  G-F   6-3  195  December 19, 1919         George Washington  \n",
       "\n",
       "[4800 rows x 9 columns]"
      ]
     },
     "execution_count": 112,
     "metadata": {},
     "output_type": "execute_result"
    }
   ],
   "source": [
    "dff"
   ]
  },
  {
   "cell_type": "markdown",
   "metadata": {},
   "source": [
    "## Enter players pages"
   ]
  },
  {
   "cell_type": "code",
   "execution_count": null,
   "metadata": {},
   "outputs": [],
   "source": []
  }
 ],
 "metadata": {
  "file_extension": ".py",
  "kernelspec": {
   "display_name": "Python 3.7.6 64-bit",
   "language": "python",
   "name": "python37664bit9b7eb7be0aac4dac8a1ed1354b9a5624"
  },
  "language_info": {
   "codemirror_mode": {
    "name": "ipython",
    "version": 3
   },
   "file_extension": ".py",
   "mimetype": "text/x-python",
   "name": "python",
   "nbconvert_exporter": "python",
   "pygments_lexer": "ipython3",
   "version": "3.7.6"
  },
  "mimetype": "text/x-python",
  "name": "python",
  "npconvert_exporter": "python",
  "pygments_lexer": "ipython3",
  "toc": {
   "base_numbering": 1,
   "nav_menu": {},
   "number_sections": true,
   "sideBar": true,
   "skip_h1_title": false,
   "title_cell": "Table of Contents",
   "title_sidebar": "Contents",
   "toc_cell": false,
   "toc_position": {},
   "toc_section_display": true,
   "toc_window_display": false
  },
  "version": 3
 },
 "nbformat": 4,
 "nbformat_minor": 2
}
